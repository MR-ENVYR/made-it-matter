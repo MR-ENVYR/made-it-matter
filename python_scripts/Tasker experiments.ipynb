{
 "cells": [
  {
   "cell_type": "code",
   "execution_count": null,
   "id": "b9ef2c6c-5b58-4196-9a24-9632754c9650",
   "metadata": {},
   "outputs": [],
   "source": []
  },
  {
   "cell_type": "code",
   "execution_count": null,
   "id": "cd5e2cae-8832-4ff8-b4ba-e2069066808d",
   "metadata": {},
   "outputs": [],
   "source": []
  },
  {
   "cell_type": "markdown",
   "id": "af2dca1a-7680-46f1-b7b8-761f9ef0d36c",
   "metadata": {},
   "source": [
    "# Task class"
   ]
  },
  {
   "cell_type": "code",
   "execution_count": null,
   "id": "212d0c29-fbf3-4f11-b853-f0d19db61ea4",
   "metadata": {},
   "outputs": [],
   "source": [
    "class task():\n",
    "    \"\"\" Class to create task objects \"\"\"\n",
    "    def __init__(self, task_dets):\n",
    "        self.start = 0\n",
    "        self.end = 0\n",
    "        self.desc = \"\"\n",
    "        self.priority = 0\n",
    "        self.tid = 0\n",
    "        self.pre_tid = 0\n",
    "        self.post_tid = 0\n",
    "        "
   ]
  }
 ],
 "metadata": {
  "kernelspec": {
   "display_name": "Python 3 (ipykernel)",
   "language": "python",
   "name": "python3"
  },
  "language_info": {
   "codemirror_mode": {
    "name": "ipython",
    "version": 3
   },
   "file_extension": ".py",
   "mimetype": "text/x-python",
   "name": "python",
   "nbconvert_exporter": "python",
   "pygments_lexer": "ipython3",
   "version": "3.10.12"
  }
 },
 "nbformat": 4,
 "nbformat_minor": 5
}
