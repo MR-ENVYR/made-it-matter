{
 "cells": [
  {
   "cell_type": "code",
   "execution_count": 13,
   "id": "b9ef2c6c-5b58-4196-9a24-9632754c9650",
   "metadata": {
    "tags": []
   },
   "outputs": [],
   "source": [
    "# Imports\n",
    "from datetime import datetime\n",
    "import json\n",
    "import flet as ft\n"
   ]
  },
  {
   "cell_type": "markdown",
   "id": "af2dca1a-7680-46f1-b7b8-761f9ef0d36c",
   "metadata": {},
   "source": [
    "# Task class"
   ]
  },
  {
   "cell_type": "code",
   "execution_count": 23,
   "id": "212d0c29-fbf3-4f11-b853-f0d19db61ea4",
   "metadata": {
    "tags": []
   },
   "outputs": [],
   "source": [
    "class Task_base():\n",
    "    \"\"\" Class to create task objects \"\"\"\n",
    "    def __init__(self, task_dets):\n",
    "        self.start = task_dets[\"start\"] if task_dets[\"start\"] else 0\n",
    "        self.end = task_dets[\"end\"] if task_dets[\"end\"] else 0\n",
    "        self.title = task_dets[\"title\"] if task_dets[\"title\"] else \"\"\n",
    "        self.desc = task_dets[\"desc\"] if task_dets[\"desc\"] else \"\"\n",
    "        self.priority = task_dets[\"priority\"] if task_dets[\"priority\"] else 0\n",
    "        self.tid = task_dets[\"tid\"] if task_dets[\"tid\"] else 0\n",
    "        self.pre_tid = task_dets[\"pre_tid\"] if task_dets[\"pre_tid\"] else 0\n",
    "        self.post_tid = task_dets[\"post_tid\"] if task_dets[\"post_tid\"] else 0"
   ]
  },
  {
   "cell_type": "code",
   "execution_count": null,
   "id": "876a2ca0-5a2a-473b-bc8f-8db78e642855",
   "metadata": {},
   "outputs": [],
   "source": [
    "class Schedule():\n",
    "    def __init__(self, day, start, end):\n",
    "        self.day = day\n",
    "        self.start = start\n",
    "        self.end = end\n",
    "        self.tasks = []\n",
    "\n",
    "    def add_task(self, task):\n",
    "        self.tasks.append(task)\n",
    "    \n",
    "    def auto_schedule(self, )"
   ]
  },
  {
   "cell_type": "markdown",
   "id": "15cc0857-f392-4441-ae8d-8d02b658f285",
   "metadata": {},
   "source": [
    "# Flet based GUI"
   ]
  },
  {
   "cell_type": "code",
   "execution_count": null,
   "id": "d23694da-4436-4b11-b64e-9893b9f457a4",
   "metadata": {},
   "outputs": [],
   "source": []
  }
 ],
 "metadata": {
  "kernelspec": {
   "display_name": "Python 3 (ipykernel)",
   "language": "python",
   "name": "python3"
  },
  "language_info": {
   "codemirror_mode": {
    "name": "ipython",
    "version": 3
   },
   "file_extension": ".py",
   "mimetype": "text/x-python",
   "name": "python",
   "nbconvert_exporter": "python",
   "pygments_lexer": "ipython3",
   "version": "3.10.12"
  }
 },
 "nbformat": 4,
 "nbformat_minor": 5
}
