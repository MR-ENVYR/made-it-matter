# Imports
from datetime import datetime
import json
import flet as ft



class Task_base():
    """ Class to create task objects """
    def __init__(self, task_dets):
        self.start = task_dets["start"] if task_dets["start"] else 0
        self.end = task_dets["end"] if task_dets["end"] else 0
        self.title = task_dets["title"] if task_dets["title"] else ""
        self.desc = task_dets["desc"] if task_dets["desc"] else ""
        self.priority = task_dets["priority"] if task_dets["priority"] else 0
        self.tid = task_dets["tid"] if task_dets["tid"] else 0
        self.pre_tid = task_dets["pre_tid"] if task_dets["pre_tid"] else 0
        self.post_tid = task_dets["post_tid"] if task_dets["post_tid"] else 0


class Schedule():
    def __init__(self, day, start, end):
        self.day = day
        self.start = start
        self.end = end
        self.tasks = []

    def add_task(self, task):
        self.tasks.append(task)
    
    def auto_schedule(self, )



