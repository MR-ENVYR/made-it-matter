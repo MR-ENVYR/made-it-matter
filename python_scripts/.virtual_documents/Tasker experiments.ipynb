# Imports
from datetime import datetime, timedelta
from math import floor
from pathlib import Path

import pandas as pd


# Task details
task_dets = {
    "slot": None,
    "start": None,
    "end": None,
    "title": None,
    "desc": None,
    "priority": None,
    "tid": None,
    "pre_tid": None,
    "post_tid": None,
}

tcols = list(task_dets.keys())


# Reading or creating today's schedule
# Path manipulations
SCHEDULES_DIR = Path("./Schedules")
SCHEDULES_DIR.mkdir(exist_ok=True)  # For first runs
all_schedules = SCHEDULES_DIR.glob("*.xlsx")

# Date and time dealings
date_format = "%m-%d-%y"
time_format = "%H:%M"
today = datetime.date(datetime.now()).strftime(date_format)
sch_file = SCHEDULES_DIR / (today + ".xlsx")
DAY_START = datetime.strptime("09:00", time_format)  # 09:00 HRS
DAY_END = datetime.strptime("18:00", time_format)  # 18:00 HRS
num_slots = int(floor((DAY_END - DAY_START).total_seconds() / (60 * 60)))

# File manipulations
try:  # User is expected to make a copy of the excel sheet template with name "MM-DD-YY.xlsx" and enter tasks into it
    schedule = pd.read_excel(sch_file).reset_index().drop(["Unnamed: 0", "index"], axis=1)
except FileNotFoundError:  # Creates the template excel file
    schedule = pd.DataFrame(columns=tcols)
    schedule["slot"] = pd.Series(range(1, num_slots + 1))
    schedule["start"] = pd.Series(
        [(DAY_START + timedelta(hours=i)).strftime(time_format) for i in range(0, num_slots + 1)]
    )
    schedule["end"] = pd.Series(
        [(DAY_START + timedelta(hours=i)).strftime(time_format) for i in range(1, num_slots + 2)]
    )
    schedule.to_excel(sch_file)


schedule


class Task_base:
    """Class to create task objects"""

    def __init__(self, task_dets):
        self.start = task_dets["start"] if task_dets["start"] else 0
        self.end = task_dets["end"] if task_dets["end"] else 0
        self.title = task_dets["title"] if task_dets["title"] else ""
        self.desc = task_dets["desc"] if task_dets["desc"] else ""
        self.priority = task_dets["priority"] if task_dets["priority"] else 0
        self.tid = task_dets["tid"] if task_dets["tid"] else 0
        self.pre_tid = task_dets["pre_tid"] if task_dets["pre_tid"] else 0
        self.post_tid = task_dets["post_tid"] if task_dets["post_tid"] else 0


class Schedule:
    def __init__(self, day, start, end):
        self.day = day
        self.start = start
        self.end = end
        self.tasks = []

    def add_task(self, task):
        self.tasks.append(task)

    def auto_schedule(self):
        pass
