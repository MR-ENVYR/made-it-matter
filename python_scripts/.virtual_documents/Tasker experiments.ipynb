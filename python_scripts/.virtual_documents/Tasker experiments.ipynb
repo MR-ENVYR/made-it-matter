





class task():
    """ Class to create task objects """
    def __init__(self, task_dets):
        self.start = 0
        self.end = 0
        self.desc = ""
        self.priority = 0
        self.tid = 0
        self.pre_tid = 0
        self.post_tid = 0
        
